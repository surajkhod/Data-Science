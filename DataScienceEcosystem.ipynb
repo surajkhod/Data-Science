{
 "cells": [
  {
   "cell_type": "markdown",
   "id": "d979ecba-7e78-4cae-9ad0-9025d576c7c0",
   "metadata": {},
   "source": [
    "# Data Science Tools and Ecosystem"
   ]
  },
  {
   "cell_type": "markdown",
   "id": "3397cc68-f2ac-4219-9bce-d87f5b381ff2",
   "metadata": {},
   "source": [
    "In this notebook, Data Science Tools and Ecosystem are summarized."
   ]
  },
  {
   "cell_type": "markdown",
   "id": "07191c45-f282-4e31-8c72-b0eb6519b6bc",
   "metadata": {},
   "source": [
    "Some of the commonly used libraries used by Data Scientists include:\n",
    "\n",
    "1. **NumPy** – for numerical operations and handling arrays.\n",
    "2. **pandas** – for data manipulation and analysis.\n",
    "3. **Matplotlib** – for data visualization."
   ]
  },
  {
   "cell_type": "markdown",
   "id": "562832e8-df58-46ab-a6b2-32f7bfcf3efb",
   "metadata": {},
   "source": [
    "| Data Science Tools            |\n",
    "|------------------------------|\n",
    "| Jupyter Notebook             |\n",
    "| RStudio                      |\n",
    "| Apache Zeppelin              |\n"
   ]
  },
  {
   "cell_type": "markdown",
   "id": "4d9c3ca6-32e6-4c3f-a28e-1faea1964940",
   "metadata": {},
   "source": [
    "### Below are a few examples of evaluating arithmetic expressions in Python."
   ]
  },
  {
   "cell_type": "code",
   "execution_count": 13,
   "id": "9a7d0f0c-24ae-400e-9a90-bd5c120268ec",
   "metadata": {},
   "outputs": [
    {
     "data": {
      "text/plain": [
       "17"
      ]
     },
     "execution_count": 13,
     "metadata": {},
     "output_type": "execute_result"
    }
   ],
   "source": [
    "# This is a simple arithmetic expression to multiply then add integers\n",
    "(3 * 4) + 5"
   ]
  },
  {
   "cell_type": "code",
   "execution_count": 15,
   "id": "9bf5f00a-80a0-4a74-a5ac-be3e9b443eb6",
   "metadata": {},
   "outputs": [
    {
     "data": {
      "text/plain": [
       "3.3333333333333335"
      ]
     },
     "execution_count": 15,
     "metadata": {},
     "output_type": "execute_result"
    }
   ],
   "source": [
    "# This will convert 200 minutes to hours by dividing by 60\n",
    "200 / 60"
   ]
  },
  {
   "cell_type": "markdown",
   "id": "a1ba7a97-00de-482c-af68-3db22243e919",
   "metadata": {},
   "source": [
    "**Objectives:**\n",
    "\n",
    "- List popular languages for Data Science  \n",
    "- Identify commonly used data science libraries  \n",
    "- Create and format markdown cells in Jupyter Notebook  \n",
    "- Perform basic arithmetic operations using Python  \n",
    "- Convert units using Python expressions  "
   ]
  },
  {
   "cell_type": "markdown",
   "id": "8e04257c-24b8-47c7-89b7-4fe89a7e3844",
   "metadata": {},
   "source": [
    "## Author\n",
    "\n",
    "Suraj Khod"
   ]
  },
  {
   "cell_type": "code",
   "execution_count": null,
   "id": "9b6bf86c-7e46-4c09-a2c9-f4aeb9ad22fc",
   "metadata": {},
   "outputs": [],
   "source": []
  }
 ],
 "metadata": {
  "kernelspec": {
   "display_name": "Python [conda env:base] *",
   "language": "python",
   "name": "conda-base-py"
  },
  "language_info": {
   "codemirror_mode": {
    "name": "ipython",
    "version": 3
   },
   "file_extension": ".py",
   "mimetype": "text/x-python",
   "name": "python",
   "nbconvert_exporter": "python",
   "pygments_lexer": "ipython3",
   "version": "3.12.7"
  }
 },
 "nbformat": 4,
 "nbformat_minor": 5
}
